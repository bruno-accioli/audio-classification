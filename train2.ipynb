{
 "cells": [
  {
   "cell_type": "markdown",
   "metadata": {},
   "source": [
    "# Audio Classification - Audio MNIST dataset"
   ]
  },
  {
   "cell_type": "code",
   "execution_count": 1,
   "metadata": {},
   "outputs": [],
   "source": [
    "import shutil\n",
    "from pathlib import Path\n",
    "import pickle\n",
    "from collections import Counter, defaultdict\n",
    "\n",
    "from tqdm import tqdm\n",
    "import wisardpkg as wp\n",
    "import numpy as np\n",
    "import pandas as pd\n",
    "from matplotlib import pyplot as plt\n",
    "import scipy.io.wavfile as wav\n",
    "\n",
    "from free_spoken_digit_dataset.utils.fsdd import FSDD\n",
    "from free_spoken_digit_dataset.utils.spectogramer import dir_to_spectrogram\n",
    "\n",
    "\n",
    "def load_audio_files(audio_dir):\n",
    "    sample_rate_list = list()\n",
    "    samples_list = list()\n",
    "    names = list()\n",
    "    files = [x for x in audio_dir.iterdir() if x.is_file()]\n",
    "    for file in files:\n",
    "        sample_rate, samples = wav.read(file)\n",
    "        sample_rate_list.append(sample_rate)\n",
    "        samples_list.append(samples)\n",
    "        names.append(file.name)\n",
    "        \n",
    "    return sample_rate_list, samples_list, names\n",
    "\n",
    "\n",
    "def pad_samples(samples, max_n_samples=None):\n",
    "    if not max_n_samples:\n",
    "        max_n_samples = np.max([len(samples_i) for samples_i in samples])\n",
    "    \n",
    "    padded_samples = [np.append(samples_i, [0]*(max_n_samples - len(samples_i))) \n",
    "                      if len(samples_i) < max_n_samples else samples_i[:max_n_samples]  \n",
    "                      for samples_i in samples]\n",
    "    return padded_samples\n",
    "\n",
    "\n",
    "def plot_amplitude(samples, sample_rate, names, i):\n",
    "    if isinstance(sample_rate, list):\n",
    "        sample_rate_i = sample_rate[i]\n",
    "    else:\n",
    "        sample_rate_i = sample_rate\n",
    "    \n",
    "    secs = np.arange(0, len(samples[i])) / sample_rate_i\n",
    "    \n",
    "    fig, ax = plt.subplots(figsize=(10,5))\n",
    "    _ = ax.plot(secs, samples[i])\n",
    "    _ = ax.set_title(f'Sample {i} - {names[i]}')\n",
    "    _ = ax.set_xlabel('Seconds')\n",
    "    _ = ax.set_ylabel('Amplitude')\n",
    "    plt.show()"
   ]
  },
  {
   "cell_type": "markdown",
   "metadata": {},
   "source": [
    "## Loading and cleaning data"
   ]
  },
  {
   "cell_type": "code",
   "execution_count": 2,
   "metadata": {},
   "outputs": [],
   "source": [
    "audio_dir = Path('free_spoken_digit_dataset/recordings/')\n",
    "sample_rates, samples, names = load_audio_files(audio_dir)"
   ]
  },
  {
   "cell_type": "markdown",
   "metadata": {},
   "source": [
    "Let's create the labels from the name of the recordings' files."
   ]
  },
  {
   "cell_type": "code",
   "execution_count": 3,
   "metadata": {},
   "outputs": [
    {
     "data": {
      "text/plain": [
       "array([0, 1, 2, 3, 4, 5, 6, 7, 8, 9])"
      ]
     },
     "execution_count": 3,
     "metadata": {},
     "output_type": "execute_result"
    }
   ],
   "source": [
    "y = [int(n[:1]) for n in names]\n",
    "np.unique(y)"
   ]
  },
  {
   "cell_type": "markdown",
   "metadata": {},
   "source": [
    "Now we need to separate the dataset in train and test set."
   ]
  },
  {
   "cell_type": "code",
   "execution_count": 20,
   "metadata": {},
   "outputs": [],
   "source": [
    "def split_train_and_test(samples, sample_rates, labels, file_names):\n",
    "    X_train = list()\n",
    "    train_sample_rates = list()\n",
    "    train_file_names = list()\n",
    "    y_train = list()\n",
    "    X_test = list()\n",
    "    test_sample_rates = list()\n",
    "    test_file_names = list()\n",
    "    y_test = list()\n",
    "    \n",
    "    for i, file_name in enumerate(file_names):\n",
    "        rec_number = int(file_name.split('_')[-1].split('.')[0])\n",
    "        if rec_number in [0, 1, 2, 3, 4]:\n",
    "            X_test.append(samples[i])\n",
    "            y_test.append(labels[i])\n",
    "            test_sample_rates.append(sample_rates[i])\n",
    "            test_file_names.append(file_name)\n",
    "        else:\n",
    "            X_train.append(samples[i])\n",
    "            y_train.append(labels[i])\n",
    "            train_sample_rates.append(sample_rates[i])\n",
    "            train_file_names.append(file_name)\n",
    "    \n",
    "    return X_train, y_train, X_test, y_test, train_sample_rates, test_sample_rates, train_file_names, test_file_names\n",
    "\n",
    "X_train, y_train, X_test, y_test,train_sample_rates, test_sample_rates,\\\n",
    "train_file_names, test_file_names = split_train_and_test(samples, sample_rates, y, names)"
   ]
  },
  {
   "cell_type": "code",
   "execution_count": 5,
   "metadata": {},
   "outputs": [
    {
     "name": "stderr",
     "output_type": "stream",
     "text": [
      "<ipython-input-5-e5f7ff96b72b>:1: VisibleDeprecationWarning: Creating an ndarray from ragged nested sequences (which is a list-or-tuple of lists-or-tuples-or ndarrays with different lengths or shapes) is deprecated. If you meant to do this, you must specify 'dtype=object' when creating the ndarray\n",
      "  np.array(X_test).shape\n"
     ]
    },
    {
     "data": {
      "text/plain": [
       "(300,)"
      ]
     },
     "execution_count": 5,
     "metadata": {},
     "output_type": "execute_result"
    }
   ],
   "source": [
    "np.array(X_test).shape"
   ]
  },
  {
   "cell_type": "markdown",
   "metadata": {},
   "source": [
    "## Feature Extraction and hyperparameter optimization"
   ]
  },
  {
   "cell_type": "code",
   "execution_count": null,
   "metadata": {},
   "outputs": [],
   "source": []
  },
  {
   "cell_type": "code",
   "execution_count": 31,
   "metadata": {},
   "outputs": [],
   "source": [
    "from sklearn.base import BaseEstimator, TransformerMixin\n",
    "from sklearn.preprocessing import StandardScaler\n",
    "from typing import List, Union, Optional\n",
    "from time import time\n",
    "from sklearn.metrics import accuracy_score\n",
    "from sklearn.model_selection import StratifiedKFold\n",
    "from sklearn.model_selection import ParameterGrid\n",
    "from sklearn.utils.validation import check_is_fitted\n",
    "from python_speech_features import mfcc\n",
    "from tqdm import tqdm\n",
    "\n",
    "np.seterr(divide='ignore')\n",
    "\n",
    "class DatabaseZScorer(BaseEstimator, TransformerMixin):\n",
    "    \n",
    "    def __init__(self):\n",
    "        self._mean = None\n",
    "        self._std = None\n",
    "    \n",
    "    def fit(self, x, y=None):\n",
    "        x = np.concatenate(x, axis=0)\n",
    "        self._mean = np.mean(x, axis=0)\n",
    "        self._std = np.std(x, axis=0)\n",
    "        return self\n",
    "        \n",
    "    def transform(self, x):\n",
    "        x_transformed = list()\n",
    "        for x_i in x:\n",
    "            x_i = (x_i - self._mean) / self._std\n",
    "            x_transformed.append(x_i)\n",
    "        return x_transformed\n",
    "\n",
    "    \n",
    "def extract_features(audio_signals, sample_rates, n_filters_mfcc, window_size, \n",
    "                     window_step, append_sum=True, verbose=False):\n",
    "    features = list()\n",
    "\n",
    "    if verbose:\n",
    "        iterator = tqdm(zip(audio_signals, sample_rates), desc='Extracting Features')\n",
    "    else:\n",
    "        iterator = zip(audio_signals, sample_rates)\n",
    "    \n",
    "    for audio_signal, sample_rate in iterator:\n",
    "        mfccs = mfcc(audio_signal, samplerate=sample_rate, nfft=1024,\n",
    "                     winlen=window_size, winstep=window_step, \n",
    "                     numcep=n_filters_mfcc, nfilt=n_filters_mfcc, \n",
    "                     winfunc=np.hamming)\n",
    "\n",
    "        if append_sum:\n",
    "            mfccs_processed = np.cumsum(mfccs, axis=0)\n",
    "        else:\n",
    "            mfccs_processed = mfccs\n",
    "\n",
    "        features.append(mfccs_processed)\n",
    "        \n",
    "    return features\n",
    "\n",
    "\n",
    "def tanh(x):\n",
    "    return [np.tanh(sample) for sample in x]\n",
    "\n",
    "\n",
    "def cross_validation_wisard(audio_recordings, y, sample_rates, file_names, n_splits=5, addressSize=[50], \n",
    "                            bleachingActivated=[True], n_filters_mfcc=[20], \n",
    "                            window_size=[0.05], window_step=[0.05], append_sum=[True], \n",
    "                            n_kernels=[10]):\n",
    "    grid_search_results = []\n",
    "    best_params = None\n",
    "    best_accuracy = -1\n",
    "    \n",
    "    if not isinstance(y, np.ndarray):\n",
    "        y = np.array(y)\n",
    "    \n",
    "    param_grid_dict = dict()\n",
    "    param_grid_dict['addressSize'] = addressSize\n",
    "    param_grid_dict['bleachingActivated'] = bleachingActivated\n",
    "    param_grid_dict['n_filters_mfcc'] = n_filters_mfcc\n",
    "    param_grid_dict['window_size'] = window_size\n",
    "    param_grid_dict['window_step'] = window_step\n",
    "    param_grid_dict['append_sum'] = append_sum\n",
    "    param_grid_dict['n_kernels'] = n_kernels\n",
    "    \n",
    "    stratification_groups = [name.rsplit('_', 1)[0] for name in file_names] # by label and speaker\n",
    "    skf = StratifiedKFold(n_splits=n_splits)\n",
    "    \n",
    "    param_grid = ParameterGrid(param_grid_dict)\n",
    "    \n",
    "    param_grid_combinations = len(list(param_grid))\n",
    "    n_combs = n_splits * param_grid_combinations\n",
    "    progress = tqdm(total=n_combs, position=0, leave=True)\n",
    "    \n",
    "    for params in param_grid:\n",
    "        print(params)\n",
    "        preprocessing_time = []\n",
    "        training_time = []\n",
    "        training_prediction_time = []\n",
    "        validation_prediction_time = []\n",
    "        training_accuracy = []\n",
    "        validation_accuracy = []\n",
    "        for train_index, val_index in skf.split(np.zeros(len(audio_recordings)), stratification_groups):\n",
    "            X_train = [audio_recordings[i] for i in train_index]\n",
    "            y_train = y[train_index]\n",
    "            y_train_str = [str(l) for l in y_train]\n",
    "            \n",
    "            X_val = [audio_recordings[i] for i in val_index]\n",
    "            y_val = y[val_index]\n",
    "            y_val_str = [str(l) for l in y_val]\n",
    "            \n",
    "            # Preprocessing\n",
    "            start = time()\n",
    "            \n",
    "            # 1) Extract MFCCs from audio recordings and use Appendsum (or not)\n",
    "            X_train = extract_features(X_train, sample_rates, params['n_filters_mfcc'], params['window_size'], \n",
    "                                       params['window_step'], params['append_sum'], verbose=False)\n",
    "            X_val = extract_features(X_val, sample_rates, params['n_filters_mfcc'], params['window_size'], \n",
    "                                     params['window_step'], params['append_sum'], verbose=False)\n",
    "            \n",
    "            # 2) Database Z-score\n",
    "            z_scorer = DatabaseZScorer()\n",
    "            X_train = z_scorer.fit_transform(X_train)\n",
    "            X_val = z_scorer.transform(X_val)\n",
    "            \n",
    "            # 3) Hyperbolic tangent (scaling features to (-1, +1) interval\n",
    "            X_train = tanh(X_train)\n",
    "            X_val = tanh(X_val)\n",
    "            \n",
    "            # 4) Applying kernel canvas to each recordings' feature set\n",
    "            dimension = X_train[0].shape[1]\n",
    "            kernel_canvas = wp.KernelCanvas(dimension, params['n_kernels'], bitsBykernel = 16, \n",
    "                                            activationDegree = 0.075)\n",
    "            \n",
    "            X_train = [kernel_canvas.transform(rec_features) for rec_features in X_train]\n",
    "            X_val = [kernel_canvas.transform(rec_features) for rec_features in X_val]\n",
    "            \n",
    "            end = time()\n",
    "            preprocessing_time.append(end-start)\n",
    "            \n",
    "            # training\n",
    "            model = wp.Wisard(params['addressSize'], bleachingActivated=params['bleachingActivated'],\n",
    "                              ignoreZero=True)\n",
    "            \n",
    "            start = time()\n",
    "            model.train(X_train, y_train_str)\n",
    "            end = time()\n",
    "            training_time.append(end-start)\n",
    "            \n",
    "            start = time()\n",
    "            pred_train = model.classify(X_train)\n",
    "            end = time()\n",
    "            training_prediction_time.append(end-start)\n",
    "            \n",
    "            start = time()\n",
    "            pred_val = model.classify(X_val)\n",
    "            end = time()\n",
    "            validation_prediction_time.append(end-start)\n",
    "            \n",
    "            training_accuracy.append(accuracy_score(y_train_str, pred_train))\n",
    "            \n",
    "            validation_accuracy.append(accuracy_score(y_val_str, pred_val))\n",
    "            \n",
    "            progress.update()\n",
    "        \n",
    "        cv_result = {'preprocessing_time_mean': np.mean(preprocessing_time),\n",
    "                     'preprocessing_time_std': np.std(preprocessing_time),\n",
    "                     'training_time_mean': np.mean(training_time),\n",
    "                     'training_time_std': np.std(training_time),\n",
    "                     'training_prediction_time_mean': np.mean(training_prediction_time),\n",
    "                     'training_prediction_time_std': np.std(training_prediction_time),\n",
    "                     'validation_prediction_time_mean': np.mean(validation_prediction_time),\n",
    "                     'validation_prediction_time_std': np.std(validation_prediction_time),\n",
    "                     'training_accuracy_mean': np.mean(training_accuracy),\n",
    "                     'training_accuracy_std': np.std(training_accuracy),\n",
    "                     'validation_accuracy_mean': np.mean(validation_accuracy),\n",
    "                     'validation_accuracy_std': np.std(validation_accuracy)}\n",
    "        \n",
    "        cv_result = {**params, **cv_result}\n",
    "        \n",
    "        grid_search_results.append(cv_result)\n",
    "        \n",
    "        if (cv_result['validation_accuracy_mean'] > best_accuracy):\n",
    "            best_accuracy = cv_result['validation_accuracy_mean']\n",
    "            best_params = params\n",
    "        \n",
    "        print(f\"Train acc. mean: {cv_result['training_accuracy_mean']:.4f} | Validation acc. mean: {cv_result['validation_accuracy_mean']:.4f}\\n\")\n",
    "    \n",
    "    grid_search_results = pd.DataFrame(grid_search_results)\n",
    "    grid_search_results['rank'] = grid_search_results['validation_accuracy_mean'].rank(ascending=False)\n",
    "    \n",
    "    return grid_search_results, best_params"
   ]
  },
  {
   "cell_type": "code",
   "execution_count": 35,
   "metadata": {},
   "outputs": [
    {
     "name": "stderr",
     "output_type": "stream",
     "text": [
      "  0%|          | 0/320 [00:00<?, ?it/s]"
     ]
    },
    {
     "name": "stdout",
     "output_type": "stream",
     "text": [
      "{'addressSize': 5, 'append_sum': True, 'bleachingActivated': True, 'n_filters_mfcc': 10, 'n_kernels': 1024, 'window_size': 0.1, 'window_step': 0.02}\n"
     ]
    },
    {
     "name": "stderr",
     "output_type": "stream",
     "text": [
      "  0%|          | 0/135 [37:02<?, ?it/s]18.84s/it]\n",
      "  2%|▏         | 5/320 [01:25<1:29:04, 16.97s/it]"
     ]
    },
    {
     "name": "stdout",
     "output_type": "stream",
     "text": [
      "Train acc. mean: 0.9262 | Validation acc. mean: 0.7693\n",
      "\n",
      "{'addressSize': 5, 'append_sum': True, 'bleachingActivated': True, 'n_filters_mfcc': 10, 'n_kernels': 2048, 'window_size': 0.1, 'window_step': 0.02}\n"
     ]
    },
    {
     "name": "stderr",
     "output_type": "stream",
     "text": [
      "  3%|▎         | 10/320 [03:31<2:01:52, 23.59s/it]"
     ]
    },
    {
     "name": "stdout",
     "output_type": "stream",
     "text": [
      "Train acc. mean: 0.9526 | Validation acc. mean: 0.8026\n",
      "\n",
      "{'addressSize': 5, 'append_sum': True, 'bleachingActivated': True, 'n_filters_mfcc': 10, 'n_kernels': 4096, 'window_size': 0.1, 'window_step': 0.02}\n"
     ]
    },
    {
     "name": "stderr",
     "output_type": "stream",
     "text": [
      "  5%|▍         | 15/320 [07:30<3:45:11, 44.30s/it]"
     ]
    },
    {
     "name": "stdout",
     "output_type": "stream",
     "text": [
      "Train acc. mean: 0.9701 | Validation acc. mean: 0.8407\n",
      "\n",
      "{'addressSize': 5, 'append_sum': True, 'bleachingActivated': True, 'n_filters_mfcc': 10, 'n_kernels': 8192, 'window_size': 0.1, 'window_step': 0.02}\n"
     ]
    },
    {
     "name": "stderr",
     "output_type": "stream",
     "text": [
      "  6%|▋         | 20/320 [15:24<7:02:05, 84.42s/it]"
     ]
    },
    {
     "name": "stdout",
     "output_type": "stream",
     "text": [
      "Train acc. mean: 0.9844 | Validation acc. mean: 0.8493\n",
      "\n",
      "{'addressSize': 5, 'append_sum': True, 'bleachingActivated': True, 'n_filters_mfcc': 12, 'n_kernels': 1024, 'window_size': 0.1, 'window_step': 0.02}\n"
     ]
    },
    {
     "name": "stderr",
     "output_type": "stream",
     "text": [
      "  8%|▊         | 25/320 [17:17<2:38:20, 32.20s/it]"
     ]
    },
    {
     "name": "stdout",
     "output_type": "stream",
     "text": [
      "Train acc. mean: 0.9444 | Validation acc. mean: 0.7793\n",
      "\n",
      "{'addressSize': 5, 'append_sum': True, 'bleachingActivated': True, 'n_filters_mfcc': 12, 'n_kernels': 2048, 'window_size': 0.1, 'window_step': 0.02}\n"
     ]
    },
    {
     "name": "stderr",
     "output_type": "stream",
     "text": [
      "  9%|▉         | 30/320 [19:38<2:19:59, 28.96s/it]"
     ]
    },
    {
     "name": "stdout",
     "output_type": "stream",
     "text": [
      "Train acc. mean: 0.9670 | Validation acc. mean: 0.8248\n",
      "\n",
      "{'addressSize': 5, 'append_sum': True, 'bleachingActivated': True, 'n_filters_mfcc': 12, 'n_kernels': 4096, 'window_size': 0.1, 'window_step': 0.02}\n"
     ]
    },
    {
     "name": "stderr",
     "output_type": "stream",
     "text": [
      " 11%|█         | 35/320 [23:49<3:40:57, 46.52s/it]"
     ]
    },
    {
     "name": "stdout",
     "output_type": "stream",
     "text": [
      "Train acc. mean: 0.9846 | Validation acc. mean: 0.8559\n",
      "\n",
      "{'addressSize': 5, 'append_sum': True, 'bleachingActivated': True, 'n_filters_mfcc': 12, 'n_kernels': 8192, 'window_size': 0.1, 'window_step': 0.02}\n"
     ]
    },
    {
     "name": "stderr",
     "output_type": "stream",
     "text": [
      " 12%|█▎        | 40/320 [31:42<6:29:52, 83.55s/it]"
     ]
    },
    {
     "name": "stdout",
     "output_type": "stream",
     "text": [
      "Train acc. mean: 0.9927 | Validation acc. mean: 0.8759\n",
      "\n",
      "{'addressSize': 5, 'append_sum': True, 'bleachingActivated': True, 'n_filters_mfcc': 14, 'n_kernels': 1024, 'window_size': 0.1, 'window_step': 0.02}\n"
     ]
    },
    {
     "name": "stderr",
     "output_type": "stream",
     "text": [
      " 14%|█▍        | 45/320 [33:01<2:04:10, 27.09s/it]"
     ]
    },
    {
     "name": "stdout",
     "output_type": "stream",
     "text": [
      "Train acc. mean: 0.9352 | Validation acc. mean: 0.7685\n",
      "\n",
      "{'addressSize': 5, 'append_sum': True, 'bleachingActivated': True, 'n_filters_mfcc': 14, 'n_kernels': 2048, 'window_size': 0.1, 'window_step': 0.02}\n"
     ]
    },
    {
     "name": "stderr",
     "output_type": "stream",
     "text": [
      " 16%|█▌        | 50/320 [35:02<1:51:27, 24.77s/it]"
     ]
    },
    {
     "name": "stdout",
     "output_type": "stream",
     "text": [
      "Train acc. mean: 0.9672 | Validation acc. mean: 0.8096\n",
      "\n",
      "{'addressSize': 5, 'append_sum': True, 'bleachingActivated': True, 'n_filters_mfcc': 14, 'n_kernels': 4096, 'window_size': 0.1, 'window_step': 0.02}\n"
     ]
    },
    {
     "name": "stderr",
     "output_type": "stream",
     "text": [
      " 17%|█▋        | 55/320 [38:43<2:58:56, 40.52s/it]"
     ]
    },
    {
     "name": "stdout",
     "output_type": "stream",
     "text": [
      "Train acc. mean: 0.9874 | Validation acc. mean: 0.8544\n",
      "\n",
      "{'addressSize': 5, 'append_sum': True, 'bleachingActivated': True, 'n_filters_mfcc': 14, 'n_kernels': 8192, 'window_size': 0.1, 'window_step': 0.02}\n"
     ]
    },
    {
     "name": "stderr",
     "output_type": "stream",
     "text": [
      " 19%|█▉        | 60/320 [45:50<5:38:25, 78.10s/it]"
     ]
    },
    {
     "name": "stdout",
     "output_type": "stream",
     "text": [
      "Train acc. mean: 0.9949 | Validation acc. mean: 0.8737\n",
      "\n",
      "{'addressSize': 5, 'append_sum': True, 'bleachingActivated': True, 'n_filters_mfcc': 16, 'n_kernels': 1024, 'window_size': 0.1, 'window_step': 0.02}\n"
     ]
    },
    {
     "name": "stderr",
     "output_type": "stream",
     "text": [
      " 20%|██        | 65/320 [47:17<1:55:40, 27.22s/it]"
     ]
    },
    {
     "name": "stdout",
     "output_type": "stream",
     "text": [
      "Train acc. mean: 0.9292 | Validation acc. mean: 0.6956\n",
      "\n",
      "{'addressSize': 5, 'append_sum': True, 'bleachingActivated': True, 'n_filters_mfcc': 16, 'n_kernels': 2048, 'window_size': 0.1, 'window_step': 0.02}\n"
     ]
    },
    {
     "name": "stderr",
     "output_type": "stream",
     "text": [
      " 22%|██▏       | 70/320 [49:22<1:45:51, 25.41s/it]"
     ]
    },
    {
     "name": "stdout",
     "output_type": "stream",
     "text": [
      "Train acc. mean: 0.9656 | Validation acc. mean: 0.7863\n",
      "\n",
      "{'addressSize': 5, 'append_sum': True, 'bleachingActivated': True, 'n_filters_mfcc': 16, 'n_kernels': 4096, 'window_size': 0.1, 'window_step': 0.02}\n"
     ]
    },
    {
     "name": "stderr",
     "output_type": "stream",
     "text": [
      " 23%|██▎       | 75/320 [53:01<2:46:28, 40.77s/it]"
     ]
    },
    {
     "name": "stdout",
     "output_type": "stream",
     "text": [
      "Train acc. mean: 0.9822 | Validation acc. mean: 0.8207\n",
      "\n",
      "{'addressSize': 5, 'append_sum': True, 'bleachingActivated': True, 'n_filters_mfcc': 16, 'n_kernels': 8192, 'window_size': 0.1, 'window_step': 0.02}\n"
     ]
    },
    {
     "name": "stderr",
     "output_type": "stream",
     "text": [
      " 25%|██▌       | 80/320 [1:00:18<5:17:41, 79.42s/it]"
     ]
    },
    {
     "name": "stdout",
     "output_type": "stream",
     "text": [
      "Train acc. mean: 0.9951 | Validation acc. mean: 0.8585\n",
      "\n",
      "{'addressSize': 10, 'append_sum': True, 'bleachingActivated': True, 'n_filters_mfcc': 10, 'n_kernels': 1024, 'window_size': 0.1, 'window_step': 0.02}\n"
     ]
    },
    {
     "name": "stderr",
     "output_type": "stream",
     "text": [
      " 27%|██▋       | 85/320 [1:01:33<1:41:10, 25.83s/it]"
     ]
    },
    {
     "name": "stdout",
     "output_type": "stream",
     "text": [
      "Train acc. mean: 1.0000 | Validation acc. mean: 0.8852\n",
      "\n",
      "{'addressSize': 10, 'append_sum': True, 'bleachingActivated': True, 'n_filters_mfcc': 10, 'n_kernels': 2048, 'window_size': 0.1, 'window_step': 0.02}\n"
     ]
    },
    {
     "name": "stderr",
     "output_type": "stream",
     "text": [
      " 28%|██▊       | 90/320 [1:03:26<1:28:43, 23.15s/it]"
     ]
    },
    {
     "name": "stdout",
     "output_type": "stream",
     "text": [
      "Train acc. mean: 1.0000 | Validation acc. mean: 0.8904\n",
      "\n",
      "{'addressSize': 10, 'append_sum': True, 'bleachingActivated': True, 'n_filters_mfcc': 10, 'n_kernels': 4096, 'window_size': 0.1, 'window_step': 0.02}\n"
     ]
    },
    {
     "name": "stderr",
     "output_type": "stream",
     "text": [
      " 30%|██▉       | 95/320 [1:06:47<2:22:36, 38.03s/it]"
     ]
    },
    {
     "name": "stdout",
     "output_type": "stream",
     "text": [
      "Train acc. mean: 1.0000 | Validation acc. mean: 0.8915\n",
      "\n",
      "{'addressSize': 10, 'append_sum': True, 'bleachingActivated': True, 'n_filters_mfcc': 10, 'n_kernels': 8192, 'window_size': 0.1, 'window_step': 0.02}\n"
     ]
    },
    {
     "name": "stderr",
     "output_type": "stream",
     "text": [
      " 31%|███▏      | 100/320 [1:13:11<4:17:26, 70.21s/it]"
     ]
    },
    {
     "name": "stdout",
     "output_type": "stream",
     "text": [
      "Train acc. mean: 1.0000 | Validation acc. mean: 0.8970\n",
      "\n",
      "{'addressSize': 10, 'append_sum': True, 'bleachingActivated': True, 'n_filters_mfcc': 12, 'n_kernels': 1024, 'window_size': 0.1, 'window_step': 0.02}\n"
     ]
    },
    {
     "name": "stderr",
     "output_type": "stream",
     "text": [
      " 33%|███▎      | 105/320 [1:14:28<1:28:20, 24.66s/it]"
     ]
    },
    {
     "name": "stdout",
     "output_type": "stream",
     "text": [
      "Train acc. mean: 1.0000 | Validation acc. mean: 0.9004\n",
      "\n",
      "{'addressSize': 10, 'append_sum': True, 'bleachingActivated': True, 'n_filters_mfcc': 12, 'n_kernels': 2048, 'window_size': 0.1, 'window_step': 0.02}\n"
     ]
    },
    {
     "name": "stderr",
     "output_type": "stream",
     "text": [
      " 34%|███▍      | 110/320 [1:16:31<1:27:53, 25.11s/it]"
     ]
    },
    {
     "name": "stdout",
     "output_type": "stream",
     "text": [
      "Train acc. mean: 1.0000 | Validation acc. mean: 0.9111\n",
      "\n",
      "{'addressSize': 10, 'append_sum': True, 'bleachingActivated': True, 'n_filters_mfcc': 12, 'n_kernels': 4096, 'window_size': 0.1, 'window_step': 0.02}\n"
     ]
    },
    {
     "name": "stderr",
     "output_type": "stream",
     "text": [
      " 36%|███▌      | 115/320 [1:19:50<2:07:38, 37.36s/it]"
     ]
    },
    {
     "name": "stdout",
     "output_type": "stream",
     "text": [
      "Train acc. mean: 1.0000 | Validation acc. mean: 0.9096\n",
      "\n",
      "{'addressSize': 10, 'append_sum': True, 'bleachingActivated': True, 'n_filters_mfcc': 12, 'n_kernels': 8192, 'window_size': 0.1, 'window_step': 0.02}\n"
     ]
    },
    {
     "name": "stderr",
     "output_type": "stream",
     "text": [
      " 38%|███▊      | 120/320 [1:26:27<4:04:43, 73.42s/it]"
     ]
    },
    {
     "name": "stdout",
     "output_type": "stream",
     "text": [
      "Train acc. mean: 1.0000 | Validation acc. mean: 0.9115\n",
      "\n",
      "{'addressSize': 10, 'append_sum': True, 'bleachingActivated': True, 'n_filters_mfcc': 14, 'n_kernels': 1024, 'window_size': 0.1, 'window_step': 0.02}\n"
     ]
    },
    {
     "name": "stderr",
     "output_type": "stream",
     "text": [
      " 39%|███▉      | 125/320 [1:27:46<1:22:26, 25.37s/it]"
     ]
    },
    {
     "name": "stdout",
     "output_type": "stream",
     "text": [
      "Train acc. mean: 1.0000 | Validation acc. mean: 0.9000\n",
      "\n",
      "{'addressSize': 10, 'append_sum': True, 'bleachingActivated': True, 'n_filters_mfcc': 14, 'n_kernels': 2048, 'window_size': 0.1, 'window_step': 0.02}\n"
     ]
    },
    {
     "name": "stderr",
     "output_type": "stream",
     "text": [
      " 41%|████      | 130/320 [1:29:43<1:14:44, 23.60s/it]"
     ]
    },
    {
     "name": "stdout",
     "output_type": "stream",
     "text": [
      "Train acc. mean: 1.0000 | Validation acc. mean: 0.9081\n",
      "\n",
      "{'addressSize': 10, 'append_sum': True, 'bleachingActivated': True, 'n_filters_mfcc': 14, 'n_kernels': 4096, 'window_size': 0.1, 'window_step': 0.02}\n"
     ]
    },
    {
     "name": "stderr",
     "output_type": "stream",
     "text": [
      " 42%|████▏     | 135/320 [1:33:06<1:56:15, 37.71s/it]"
     ]
    },
    {
     "name": "stdout",
     "output_type": "stream",
     "text": [
      "Train acc. mean: 1.0000 | Validation acc. mean: 0.9104\n",
      "\n",
      "{'addressSize': 10, 'append_sum': True, 'bleachingActivated': True, 'n_filters_mfcc': 14, 'n_kernels': 8192, 'window_size': 0.1, 'window_step': 0.02}\n"
     ]
    },
    {
     "name": "stderr",
     "output_type": "stream",
     "text": [
      " 44%|████▍     | 140/320 [1:39:46<3:38:30, 72.84s/it]"
     ]
    },
    {
     "name": "stdout",
     "output_type": "stream",
     "text": [
      "Train acc. mean: 1.0000 | Validation acc. mean: 0.9130\n",
      "\n",
      "{'addressSize': 10, 'append_sum': True, 'bleachingActivated': True, 'n_filters_mfcc': 16, 'n_kernels': 1024, 'window_size': 0.1, 'window_step': 0.02}\n"
     ]
    },
    {
     "name": "stderr",
     "output_type": "stream",
     "text": [
      " 45%|████▌     | 145/320 [1:41:06<1:14:14, 25.45s/it]"
     ]
    },
    {
     "name": "stdout",
     "output_type": "stream",
     "text": [
      "Train acc. mean: 1.0000 | Validation acc. mean: 0.8922\n",
      "\n",
      "{'addressSize': 10, 'append_sum': True, 'bleachingActivated': True, 'n_filters_mfcc': 16, 'n_kernels': 2048, 'window_size': 0.1, 'window_step': 0.02}\n"
     ]
    },
    {
     "name": "stderr",
     "output_type": "stream",
     "text": [
      " 47%|████▋     | 150/320 [1:43:05<1:08:06, 24.04s/it]"
     ]
    },
    {
     "name": "stdout",
     "output_type": "stream",
     "text": [
      "Train acc. mean: 1.0000 | Validation acc. mean: 0.9122\n",
      "\n",
      "{'addressSize': 10, 'append_sum': True, 'bleachingActivated': True, 'n_filters_mfcc': 16, 'n_kernels': 4096, 'window_size': 0.1, 'window_step': 0.02}\n"
     ]
    },
    {
     "name": "stderr",
     "output_type": "stream",
     "text": [
      " 48%|████▊     | 155/320 [1:46:37<1:50:08, 40.05s/it]"
     ]
    },
    {
     "name": "stdout",
     "output_type": "stream",
     "text": [
      "Train acc. mean: 1.0000 | Validation acc. mean: 0.9096\n",
      "\n",
      "{'addressSize': 10, 'append_sum': True, 'bleachingActivated': True, 'n_filters_mfcc': 16, 'n_kernels': 8192, 'window_size': 0.1, 'window_step': 0.02}\n"
     ]
    },
    {
     "name": "stderr",
     "output_type": "stream",
     "text": [
      " 50%|█████     | 160/320 [1:53:18<3:15:41, 73.39s/it]"
     ]
    },
    {
     "name": "stdout",
     "output_type": "stream",
     "text": [
      "Train acc. mean: 1.0000 | Validation acc. mean: 0.9141\n",
      "\n",
      "{'addressSize': 15, 'append_sum': True, 'bleachingActivated': True, 'n_filters_mfcc': 10, 'n_kernels': 1024, 'window_size': 0.1, 'window_step': 0.02}\n"
     ]
    },
    {
     "name": "stderr",
     "output_type": "stream",
     "text": [
      " 52%|█████▏    | 165/320 [1:54:32<1:03:41, 24.65s/it]"
     ]
    },
    {
     "name": "stdout",
     "output_type": "stream",
     "text": [
      "Train acc. mean: 1.0000 | Validation acc. mean: 0.8804\n",
      "\n",
      "{'addressSize': 15, 'append_sum': True, 'bleachingActivated': True, 'n_filters_mfcc': 10, 'n_kernels': 2048, 'window_size': 0.1, 'window_step': 0.02}\n"
     ]
    },
    {
     "name": "stderr",
     "output_type": "stream",
     "text": [
      " 53%|█████▎    | 170/320 [1:56:34<1:03:38, 25.46s/it]"
     ]
    },
    {
     "name": "stdout",
     "output_type": "stream",
     "text": [
      "Train acc. mean: 1.0000 | Validation acc. mean: 0.8819\n",
      "\n",
      "{'addressSize': 15, 'append_sum': True, 'bleachingActivated': True, 'n_filters_mfcc': 10, 'n_kernels': 4096, 'window_size': 0.1, 'window_step': 0.02}\n"
     ]
    },
    {
     "name": "stderr",
     "output_type": "stream",
     "text": [
      " 55%|█████▍    | 175/320 [1:59:49<1:28:32, 36.64s/it]"
     ]
    },
    {
     "name": "stdout",
     "output_type": "stream",
     "text": [
      "Train acc. mean: 1.0000 | Validation acc. mean: 0.8881\n",
      "\n",
      "{'addressSize': 15, 'append_sum': True, 'bleachingActivated': True, 'n_filters_mfcc': 10, 'n_kernels': 8192, 'window_size': 0.1, 'window_step': 0.02}\n"
     ]
    },
    {
     "name": "stderr",
     "output_type": "stream",
     "text": [
      " 56%|█████▋    | 180/320 [2:06:10<2:42:52, 69.80s/it]"
     ]
    },
    {
     "name": "stdout",
     "output_type": "stream",
     "text": [
      "Train acc. mean: 1.0000 | Validation acc. mean: 0.8881\n",
      "\n",
      "{'addressSize': 15, 'append_sum': True, 'bleachingActivated': True, 'n_filters_mfcc': 12, 'n_kernels': 1024, 'window_size': 0.1, 'window_step': 0.02}\n"
     ]
    },
    {
     "name": "stderr",
     "output_type": "stream",
     "text": [
      " 58%|█████▊    | 185/320 [2:07:30<55:32, 24.69s/it]  "
     ]
    },
    {
     "name": "stdout",
     "output_type": "stream",
     "text": [
      "Train acc. mean: 1.0000 | Validation acc. mean: 0.8941\n",
      "\n",
      "{'addressSize': 15, 'append_sum': True, 'bleachingActivated': True, 'n_filters_mfcc': 12, 'n_kernels': 2048, 'window_size': 0.1, 'window_step': 0.02}\n"
     ]
    },
    {
     "name": "stderr",
     "output_type": "stream",
     "text": [
      " 59%|█████▉    | 190/320 [2:09:26<50:31, 23.32s/it]"
     ]
    },
    {
     "name": "stdout",
     "output_type": "stream",
     "text": [
      "Train acc. mean: 1.0000 | Validation acc. mean: 0.8993\n",
      "\n",
      "{'addressSize': 15, 'append_sum': True, 'bleachingActivated': True, 'n_filters_mfcc': 12, 'n_kernels': 4096, 'window_size': 0.1, 'window_step': 0.02}\n"
     ]
    },
    {
     "name": "stderr",
     "output_type": "stream",
     "text": [
      " 61%|██████    | 195/320 [2:12:44<1:16:59, 36.95s/it]"
     ]
    },
    {
     "name": "stdout",
     "output_type": "stream",
     "text": [
      "Train acc. mean: 1.0000 | Validation acc. mean: 0.9056\n",
      "\n",
      "{'addressSize': 15, 'append_sum': True, 'bleachingActivated': True, 'n_filters_mfcc': 12, 'n_kernels': 8192, 'window_size': 0.1, 'window_step': 0.02}\n"
     ]
    },
    {
     "name": "stderr",
     "output_type": "stream",
     "text": [
      " 62%|██████▎   | 200/320 [2:19:15<2:22:25, 71.22s/it]"
     ]
    },
    {
     "name": "stdout",
     "output_type": "stream",
     "text": [
      "Train acc. mean: 1.0000 | Validation acc. mean: 0.9089\n",
      "\n",
      "{'addressSize': 15, 'append_sum': True, 'bleachingActivated': True, 'n_filters_mfcc': 14, 'n_kernels': 1024, 'window_size': 0.1, 'window_step': 0.02}\n"
     ]
    },
    {
     "name": "stderr",
     "output_type": "stream",
     "text": [
      " 64%|██████▍   | 205/320 [2:20:47<49:57, 26.07s/it]  "
     ]
    },
    {
     "name": "stdout",
     "output_type": "stream",
     "text": [
      "Train acc. mean: 1.0000 | Validation acc. mean: 0.8874\n",
      "\n",
      "{'addressSize': 15, 'append_sum': True, 'bleachingActivated': True, 'n_filters_mfcc': 14, 'n_kernels': 2048, 'window_size': 0.1, 'window_step': 0.02}\n"
     ]
    },
    {
     "name": "stderr",
     "output_type": "stream",
     "text": [
      " 66%|██████▌   | 210/320 [2:22:43<43:31, 23.74s/it]"
     ]
    },
    {
     "name": "stdout",
     "output_type": "stream",
     "text": [
      "Train acc. mean: 1.0000 | Validation acc. mean: 0.9067\n",
      "\n",
      "{'addressSize': 15, 'append_sum': True, 'bleachingActivated': True, 'n_filters_mfcc': 14, 'n_kernels': 4096, 'window_size': 0.1, 'window_step': 0.02}\n"
     ]
    },
    {
     "name": "stderr",
     "output_type": "stream",
     "text": [
      " 67%|██████▋   | 215/320 [2:26:06<1:06:26, 37.97s/it]"
     ]
    },
    {
     "name": "stdout",
     "output_type": "stream",
     "text": [
      "Train acc. mean: 1.0000 | Validation acc. mean: 0.9115\n",
      "\n",
      "{'addressSize': 15, 'append_sum': True, 'bleachingActivated': True, 'n_filters_mfcc': 14, 'n_kernels': 8192, 'window_size': 0.1, 'window_step': 0.02}\n"
     ]
    },
    {
     "name": "stderr",
     "output_type": "stream",
     "text": [
      " 69%|██████▉   | 220/320 [2:32:44<1:59:40, 71.81s/it]"
     ]
    },
    {
     "name": "stdout",
     "output_type": "stream",
     "text": [
      "Train acc. mean: 1.0000 | Validation acc. mean: 0.9115\n",
      "\n",
      "{'addressSize': 15, 'append_sum': True, 'bleachingActivated': True, 'n_filters_mfcc': 16, 'n_kernels': 1024, 'window_size': 0.1, 'window_step': 0.02}\n"
     ]
    },
    {
     "name": "stderr",
     "output_type": "stream",
     "text": [
      " 70%|███████   | 225/320 [2:34:03<39:55, 25.21s/it]  "
     ]
    },
    {
     "name": "stdout",
     "output_type": "stream",
     "text": [
      "Train acc. mean: 1.0000 | Validation acc. mean: 0.8730\n",
      "\n",
      "{'addressSize': 15, 'append_sum': True, 'bleachingActivated': True, 'n_filters_mfcc': 16, 'n_kernels': 2048, 'window_size': 0.1, 'window_step': 0.02}\n"
     ]
    },
    {
     "name": "stderr",
     "output_type": "stream",
     "text": [
      " 72%|███████▏  | 230/320 [2:36:04<36:29, 24.33s/it]"
     ]
    },
    {
     "name": "stdout",
     "output_type": "stream",
     "text": [
      "Train acc. mean: 1.0000 | Validation acc. mean: 0.8919\n",
      "\n",
      "{'addressSize': 15, 'append_sum': True, 'bleachingActivated': True, 'n_filters_mfcc': 16, 'n_kernels': 4096, 'window_size': 0.1, 'window_step': 0.02}\n"
     ]
    },
    {
     "name": "stderr",
     "output_type": "stream",
     "text": [
      " 73%|███████▎  | 235/320 [2:39:34<54:33, 38.51s/it]"
     ]
    },
    {
     "name": "stdout",
     "output_type": "stream",
     "text": [
      "Train acc. mean: 1.0000 | Validation acc. mean: 0.9037\n",
      "\n",
      "{'addressSize': 15, 'append_sum': True, 'bleachingActivated': True, 'n_filters_mfcc': 16, 'n_kernels': 8192, 'window_size': 0.1, 'window_step': 0.02}\n"
     ]
    },
    {
     "name": "stderr",
     "output_type": "stream",
     "text": [
      " 75%|███████▌  | 240/320 [2:46:15<1:38:26, 73.84s/it]"
     ]
    },
    {
     "name": "stdout",
     "output_type": "stream",
     "text": [
      "Train acc. mean: 1.0000 | Validation acc. mean: 0.9089\n",
      "\n",
      "{'addressSize': 20, 'append_sum': True, 'bleachingActivated': True, 'n_filters_mfcc': 10, 'n_kernels': 1024, 'window_size': 0.1, 'window_step': 0.02}\n"
     ]
    },
    {
     "name": "stderr",
     "output_type": "stream",
     "text": [
      " 77%|███████▋  | 245/320 [2:47:35<31:31, 25.22s/it]  "
     ]
    },
    {
     "name": "stdout",
     "output_type": "stream",
     "text": [
      "Train acc. mean: 1.0000 | Validation acc. mean: 0.8626\n",
      "\n",
      "{'addressSize': 20, 'append_sum': True, 'bleachingActivated': True, 'n_filters_mfcc': 10, 'n_kernels': 2048, 'window_size': 0.1, 'window_step': 0.02}\n"
     ]
    },
    {
     "name": "stderr",
     "output_type": "stream",
     "text": [
      " 78%|███████▊  | 250/320 [2:49:27<26:39, 22.85s/it]"
     ]
    },
    {
     "name": "stdout",
     "output_type": "stream",
     "text": [
      "Train acc. mean: 1.0000 | Validation acc. mean: 0.8700\n",
      "\n",
      "{'addressSize': 20, 'append_sum': True, 'bleachingActivated': True, 'n_filters_mfcc': 10, 'n_kernels': 4096, 'window_size': 0.1, 'window_step': 0.02}\n"
     ]
    },
    {
     "name": "stderr",
     "output_type": "stream",
     "text": [
      " 80%|███████▉  | 255/320 [2:52:40<38:57, 35.96s/it]"
     ]
    },
    {
     "name": "stdout",
     "output_type": "stream",
     "text": [
      "Train acc. mean: 1.0000 | Validation acc. mean: 0.8830\n",
      "\n",
      "{'addressSize': 20, 'append_sum': True, 'bleachingActivated': True, 'n_filters_mfcc': 10, 'n_kernels': 8192, 'window_size': 0.1, 'window_step': 0.02}\n"
     ]
    },
    {
     "name": "stderr",
     "output_type": "stream",
     "text": [
      " 81%|████████▏ | 260/320 [2:59:04<1:09:47, 69.80s/it]"
     ]
    },
    {
     "name": "stdout",
     "output_type": "stream",
     "text": [
      "Train acc. mean: 1.0000 | Validation acc. mean: 0.8867\n",
      "\n",
      "{'addressSize': 20, 'append_sum': True, 'bleachingActivated': True, 'n_filters_mfcc': 12, 'n_kernels': 1024, 'window_size': 0.1, 'window_step': 0.02}\n"
     ]
    },
    {
     "name": "stderr",
     "output_type": "stream",
     "text": [
      " 83%|████████▎ | 265/320 [3:00:21<22:24, 24.44s/it]  "
     ]
    },
    {
     "name": "stdout",
     "output_type": "stream",
     "text": [
      "Train acc. mean: 1.0000 | Validation acc. mean: 0.8693\n",
      "\n",
      "{'addressSize': 20, 'append_sum': True, 'bleachingActivated': True, 'n_filters_mfcc': 12, 'n_kernels': 2048, 'window_size': 0.1, 'window_step': 0.02}\n"
     ]
    },
    {
     "name": "stderr",
     "output_type": "stream",
     "text": [
      " 84%|████████▍ | 270/320 [3:02:15<19:15, 23.11s/it]"
     ]
    },
    {
     "name": "stdout",
     "output_type": "stream",
     "text": [
      "Train acc. mean: 1.0000 | Validation acc. mean: 0.8804\n",
      "\n",
      "{'addressSize': 20, 'append_sum': True, 'bleachingActivated': True, 'n_filters_mfcc': 12, 'n_kernels': 4096, 'window_size': 0.1, 'window_step': 0.02}\n"
     ]
    },
    {
     "name": "stderr",
     "output_type": "stream",
     "text": [
      " 86%|████████▌ | 275/320 [3:05:33<27:42, 36.95s/it]"
     ]
    },
    {
     "name": "stdout",
     "output_type": "stream",
     "text": [
      "Train acc. mean: 1.0000 | Validation acc. mean: 0.8933\n",
      "\n",
      "{'addressSize': 20, 'append_sum': True, 'bleachingActivated': True, 'n_filters_mfcc': 12, 'n_kernels': 8192, 'window_size': 0.1, 'window_step': 0.02}\n"
     ]
    },
    {
     "name": "stderr",
     "output_type": "stream",
     "text": [
      " 88%|████████▊ | 280/320 [3:12:00<46:46, 70.17s/it]"
     ]
    },
    {
     "name": "stdout",
     "output_type": "stream",
     "text": [
      "Train acc. mean: 1.0000 | Validation acc. mean: 0.9015\n",
      "\n",
      "{'addressSize': 20, 'append_sum': True, 'bleachingActivated': True, 'n_filters_mfcc': 14, 'n_kernels': 1024, 'window_size': 0.1, 'window_step': 0.02}\n"
     ]
    },
    {
     "name": "stderr",
     "output_type": "stream",
     "text": [
      " 89%|████████▉ | 285/320 [3:13:18<14:23, 24.68s/it]"
     ]
    },
    {
     "name": "stdout",
     "output_type": "stream",
     "text": [
      "Train acc. mean: 1.0000 | Validation acc. mean: 0.8485\n",
      "\n",
      "{'addressSize': 20, 'append_sum': True, 'bleachingActivated': True, 'n_filters_mfcc': 14, 'n_kernels': 2048, 'window_size': 0.1, 'window_step': 0.02}\n"
     ]
    },
    {
     "name": "stderr",
     "output_type": "stream",
     "text": [
      " 91%|█████████ | 290/320 [3:15:14<11:45, 23.53s/it]"
     ]
    },
    {
     "name": "stdout",
     "output_type": "stream",
     "text": [
      "Train acc. mean: 1.0000 | Validation acc. mean: 0.8878\n",
      "\n",
      "{'addressSize': 20, 'append_sum': True, 'bleachingActivated': True, 'n_filters_mfcc': 14, 'n_kernels': 4096, 'window_size': 0.1, 'window_step': 0.02}\n"
     ]
    },
    {
     "name": "stderr",
     "output_type": "stream",
     "text": [
      " 92%|█████████▏| 295/320 [3:18:40<15:49, 38.00s/it]"
     ]
    },
    {
     "name": "stdout",
     "output_type": "stream",
     "text": [
      "Train acc. mean: 1.0000 | Validation acc. mean: 0.8952\n",
      "\n",
      "{'addressSize': 20, 'append_sum': True, 'bleachingActivated': True, 'n_filters_mfcc': 14, 'n_kernels': 8192, 'window_size': 0.1, 'window_step': 0.02}\n"
     ]
    },
    {
     "name": "stderr",
     "output_type": "stream",
     "text": [
      " 94%|█████████▍| 300/320 [3:25:07<23:35, 70.76s/it]"
     ]
    },
    {
     "name": "stdout",
     "output_type": "stream",
     "text": [
      "Train acc. mean: 1.0000 | Validation acc. mean: 0.9067\n",
      "\n",
      "{'addressSize': 20, 'append_sum': True, 'bleachingActivated': True, 'n_filters_mfcc': 16, 'n_kernels': 1024, 'window_size': 0.1, 'window_step': 0.02}\n"
     ]
    },
    {
     "name": "stderr",
     "output_type": "stream",
     "text": [
      " 95%|█████████▌| 305/320 [3:26:36<06:49, 27.32s/it]"
     ]
    },
    {
     "name": "stdout",
     "output_type": "stream",
     "text": [
      "Train acc. mean: 1.0000 | Validation acc. mean: 0.7985\n",
      "\n",
      "{'addressSize': 20, 'append_sum': True, 'bleachingActivated': True, 'n_filters_mfcc': 16, 'n_kernels': 2048, 'window_size': 0.1, 'window_step': 0.02}\n"
     ]
    },
    {
     "name": "stderr",
     "output_type": "stream",
     "text": [
      " 97%|█████████▋| 310/320 [3:28:33<04:00, 24.00s/it]"
     ]
    },
    {
     "name": "stdout",
     "output_type": "stream",
     "text": [
      "Train acc. mean: 1.0000 | Validation acc. mean: 0.8515\n",
      "\n",
      "{'addressSize': 20, 'append_sum': True, 'bleachingActivated': True, 'n_filters_mfcc': 16, 'n_kernels': 4096, 'window_size': 0.1, 'window_step': 0.02}\n"
     ]
    },
    {
     "name": "stderr",
     "output_type": "stream",
     "text": [
      " 98%|█████████▊| 315/320 [3:31:57<03:10, 38.05s/it]"
     ]
    },
    {
     "name": "stdout",
     "output_type": "stream",
     "text": [
      "Train acc. mean: 1.0000 | Validation acc. mean: 0.8774\n",
      "\n",
      "{'addressSize': 20, 'append_sum': True, 'bleachingActivated': True, 'n_filters_mfcc': 16, 'n_kernels': 8192, 'window_size': 0.1, 'window_step': 0.02}\n"
     ]
    },
    {
     "name": "stderr",
     "output_type": "stream",
     "text": [
      "100%|██████████| 320/320 [3:38:35<00:00, 72.91s/it]"
     ]
    },
    {
     "name": "stdout",
     "output_type": "stream",
     "text": [
      "Train acc. mean: 1.0000 | Validation acc. mean: 0.8907\n",
      "\n"
     ]
    }
   ],
   "source": [
    "ws_gs_results, ws_best_params = cross_validation_wisard(X_train, y_train, sample_rates, train_file_names, n_splits=5, \n",
    "                                                        addressSize=[5, 10, 15, 20], bleachingActivated=[True], \n",
    "                                                        n_filters_mfcc=[10, 12, 14, 16], window_size=[0.1], window_step=[0.02], \n",
    "                                                        append_sum=[True], n_kernels=[2**10, 2**11, 2**12, 2**13])"
   ]
  },
  {
   "cell_type": "code",
   "execution_count": 6,
   "metadata": {},
   "outputs": [
    {
     "data": {
      "text/html": [
       "<div>\n",
       "<style scoped>\n",
       "    .dataframe tbody tr th:only-of-type {\n",
       "        vertical-align: middle;\n",
       "    }\n",
       "\n",
       "    .dataframe tbody tr th {\n",
       "        vertical-align: top;\n",
       "    }\n",
       "\n",
       "    .dataframe thead th {\n",
       "        text-align: right;\n",
       "    }\n",
       "</style>\n",
       "<table border=\"1\" class=\"dataframe\">\n",
       "  <thead>\n",
       "    <tr style=\"text-align: right;\">\n",
       "      <th></th>\n",
       "      <th>addressSize</th>\n",
       "      <th>append_sum</th>\n",
       "      <th>bleachingActivated</th>\n",
       "      <th>n_filters_mfcc</th>\n",
       "      <th>n_kernels</th>\n",
       "      <th>window_size</th>\n",
       "      <th>window_step</th>\n",
       "      <th>preprocessing_time_mean</th>\n",
       "      <th>preprocessing_time_std</th>\n",
       "      <th>training_time_mean</th>\n",
       "      <th>training_time_std</th>\n",
       "      <th>training_prediction_time_mean</th>\n",
       "      <th>training_prediction_time_std</th>\n",
       "      <th>validation_prediction_time_mean</th>\n",
       "      <th>validation_prediction_time_std</th>\n",
       "      <th>training_accuracy_mean</th>\n",
       "      <th>training_accuracy_std</th>\n",
       "      <th>validation_accuracy_mean</th>\n",
       "      <th>validation_accuracy_std</th>\n",
       "      <th>rank</th>\n",
       "    </tr>\n",
       "  </thead>\n",
       "  <tbody>\n",
       "    <tr>\n",
       "      <th>0</th>\n",
       "      <td>10</td>\n",
       "      <td>True</td>\n",
       "      <td>True</td>\n",
       "      <td>16</td>\n",
       "      <td>8192</td>\n",
       "      <td>0.1</td>\n",
       "      <td>0.02</td>\n",
       "      <td>68.779536</td>\n",
       "      <td>0.461718</td>\n",
       "      <td>1.947594</td>\n",
       "      <td>0.046322</td>\n",
       "      <td>7.282843</td>\n",
       "      <td>0.064355</td>\n",
       "      <td>1.763058</td>\n",
       "      <td>0.011880</td>\n",
       "      <td>1.000000</td>\n",
       "      <td>0.000000</td>\n",
       "      <td>0.914074</td>\n",
       "      <td>0.025272</td>\n",
       "      <td>1.0</td>\n",
       "    </tr>\n",
       "    <tr>\n",
       "      <th>1</th>\n",
       "      <td>10</td>\n",
       "      <td>True</td>\n",
       "      <td>True</td>\n",
       "      <td>14</td>\n",
       "      <td>8192</td>\n",
       "      <td>0.1</td>\n",
       "      <td>0.02</td>\n",
       "      <td>68.809825</td>\n",
       "      <td>2.102739</td>\n",
       "      <td>2.021882</td>\n",
       "      <td>0.132910</td>\n",
       "      <td>7.123245</td>\n",
       "      <td>0.131645</td>\n",
       "      <td>1.704458</td>\n",
       "      <td>0.026431</td>\n",
       "      <td>1.000000</td>\n",
       "      <td>0.000000</td>\n",
       "      <td>0.912963</td>\n",
       "      <td>0.009443</td>\n",
       "      <td>2.0</td>\n",
       "    </tr>\n",
       "    <tr>\n",
       "      <th>2</th>\n",
       "      <td>10</td>\n",
       "      <td>True</td>\n",
       "      <td>True</td>\n",
       "      <td>16</td>\n",
       "      <td>2048</td>\n",
       "      <td>0.1</td>\n",
       "      <td>0.02</td>\n",
       "      <td>21.257074</td>\n",
       "      <td>0.148606</td>\n",
       "      <td>0.390748</td>\n",
       "      <td>0.010244</td>\n",
       "      <td>1.612594</td>\n",
       "      <td>0.060409</td>\n",
       "      <td>0.457569</td>\n",
       "      <td>0.041106</td>\n",
       "      <td>1.000000</td>\n",
       "      <td>0.000000</td>\n",
       "      <td>0.912222</td>\n",
       "      <td>0.022999</td>\n",
       "      <td>3.0</td>\n",
       "    </tr>\n",
       "    <tr>\n",
       "      <th>3</th>\n",
       "      <td>10</td>\n",
       "      <td>True</td>\n",
       "      <td>True</td>\n",
       "      <td>12</td>\n",
       "      <td>8192</td>\n",
       "      <td>0.1</td>\n",
       "      <td>0.02</td>\n",
       "      <td>67.674637</td>\n",
       "      <td>1.687225</td>\n",
       "      <td>2.156996</td>\n",
       "      <td>0.451407</td>\n",
       "      <td>7.586651</td>\n",
       "      <td>1.009147</td>\n",
       "      <td>1.688890</td>\n",
       "      <td>0.027610</td>\n",
       "      <td>1.000000</td>\n",
       "      <td>0.000000</td>\n",
       "      <td>0.911481</td>\n",
       "      <td>0.009544</td>\n",
       "      <td>4.0</td>\n",
       "    </tr>\n",
       "    <tr>\n",
       "      <th>4</th>\n",
       "      <td>15</td>\n",
       "      <td>True</td>\n",
       "      <td>True</td>\n",
       "      <td>14</td>\n",
       "      <td>8192</td>\n",
       "      <td>0.1</td>\n",
       "      <td>0.02</td>\n",
       "      <td>69.580245</td>\n",
       "      <td>3.124243</td>\n",
       "      <td>1.803700</td>\n",
       "      <td>0.085118</td>\n",
       "      <td>6.189355</td>\n",
       "      <td>0.109496</td>\n",
       "      <td>1.501977</td>\n",
       "      <td>0.040649</td>\n",
       "      <td>1.000000</td>\n",
       "      <td>0.000000</td>\n",
       "      <td>0.911481</td>\n",
       "      <td>0.016580</td>\n",
       "      <td>5.5</td>\n",
       "    </tr>\n",
       "    <tr>\n",
       "      <th>...</th>\n",
       "      <td>...</td>\n",
       "      <td>...</td>\n",
       "      <td>...</td>\n",
       "      <td>...</td>\n",
       "      <td>...</td>\n",
       "      <td>...</td>\n",
       "      <td>...</td>\n",
       "      <td>...</td>\n",
       "      <td>...</td>\n",
       "      <td>...</td>\n",
       "      <td>...</td>\n",
       "      <td>...</td>\n",
       "      <td>...</td>\n",
       "      <td>...</td>\n",
       "      <td>...</td>\n",
       "      <td>...</td>\n",
       "      <td>...</td>\n",
       "      <td>...</td>\n",
       "      <td>...</td>\n",
       "      <td>...</td>\n",
       "    </tr>\n",
       "    <tr>\n",
       "      <th>59</th>\n",
       "      <td>5</td>\n",
       "      <td>True</td>\n",
       "      <td>True</td>\n",
       "      <td>16</td>\n",
       "      <td>2048</td>\n",
       "      <td>0.1</td>\n",
       "      <td>0.02</td>\n",
       "      <td>21.195311</td>\n",
       "      <td>0.260166</td>\n",
       "      <td>0.380976</td>\n",
       "      <td>0.035190</td>\n",
       "      <td>2.672261</td>\n",
       "      <td>0.162582</td>\n",
       "      <td>0.684966</td>\n",
       "      <td>0.069627</td>\n",
       "      <td>0.965556</td>\n",
       "      <td>0.003135</td>\n",
       "      <td>0.786296</td>\n",
       "      <td>0.024612</td>\n",
       "      <td>60.0</td>\n",
       "    </tr>\n",
       "    <tr>\n",
       "      <th>60</th>\n",
       "      <td>5</td>\n",
       "      <td>True</td>\n",
       "      <td>True</td>\n",
       "      <td>12</td>\n",
       "      <td>1024</td>\n",
       "      <td>0.1</td>\n",
       "      <td>0.02</td>\n",
       "      <td>20.212808</td>\n",
       "      <td>2.871695</td>\n",
       "      <td>0.213629</td>\n",
       "      <td>0.031466</td>\n",
       "      <td>1.580484</td>\n",
       "      <td>0.401744</td>\n",
       "      <td>0.400684</td>\n",
       "      <td>0.126144</td>\n",
       "      <td>0.944444</td>\n",
       "      <td>0.005834</td>\n",
       "      <td>0.779259</td>\n",
       "      <td>0.018310</td>\n",
       "      <td>61.0</td>\n",
       "    </tr>\n",
       "    <tr>\n",
       "      <th>61</th>\n",
       "      <td>5</td>\n",
       "      <td>True</td>\n",
       "      <td>True</td>\n",
       "      <td>10</td>\n",
       "      <td>1024</td>\n",
       "      <td>0.1</td>\n",
       "      <td>0.02</td>\n",
       "      <td>15.484381</td>\n",
       "      <td>1.137779</td>\n",
       "      <td>0.166962</td>\n",
       "      <td>0.023644</td>\n",
       "      <td>1.181425</td>\n",
       "      <td>0.172768</td>\n",
       "      <td>0.308179</td>\n",
       "      <td>0.040861</td>\n",
       "      <td>0.926204</td>\n",
       "      <td>0.007463</td>\n",
       "      <td>0.769259</td>\n",
       "      <td>0.023733</td>\n",
       "      <td>62.0</td>\n",
       "    </tr>\n",
       "    <tr>\n",
       "      <th>62</th>\n",
       "      <td>5</td>\n",
       "      <td>True</td>\n",
       "      <td>True</td>\n",
       "      <td>14</td>\n",
       "      <td>1024</td>\n",
       "      <td>0.1</td>\n",
       "      <td>0.02</td>\n",
       "      <td>14.111317</td>\n",
       "      <td>0.126468</td>\n",
       "      <td>0.158926</td>\n",
       "      <td>0.001679</td>\n",
       "      <td>1.118401</td>\n",
       "      <td>0.016352</td>\n",
       "      <td>0.290834</td>\n",
       "      <td>0.010492</td>\n",
       "      <td>0.935185</td>\n",
       "      <td>0.009676</td>\n",
       "      <td>0.768519</td>\n",
       "      <td>0.015135</td>\n",
       "      <td>63.0</td>\n",
       "    </tr>\n",
       "    <tr>\n",
       "      <th>63</th>\n",
       "      <td>5</td>\n",
       "      <td>True</td>\n",
       "      <td>True</td>\n",
       "      <td>16</td>\n",
       "      <td>1024</td>\n",
       "      <td>0.1</td>\n",
       "      <td>0.02</td>\n",
       "      <td>15.689873</td>\n",
       "      <td>1.566034</td>\n",
       "      <td>0.160175</td>\n",
       "      <td>0.010970</td>\n",
       "      <td>1.173880</td>\n",
       "      <td>0.149129</td>\n",
       "      <td>0.318736</td>\n",
       "      <td>0.052284</td>\n",
       "      <td>0.929167</td>\n",
       "      <td>0.008881</td>\n",
       "      <td>0.695556</td>\n",
       "      <td>0.008889</td>\n",
       "      <td>64.0</td>\n",
       "    </tr>\n",
       "  </tbody>\n",
       "</table>\n",
       "<p>64 rows × 20 columns</p>\n",
       "</div>"
      ],
      "text/plain": [
       "    addressSize  append_sum  bleachingActivated  n_filters_mfcc  n_kernels  \\\n",
       "0            10        True                True              16       8192   \n",
       "1            10        True                True              14       8192   \n",
       "2            10        True                True              16       2048   \n",
       "3            10        True                True              12       8192   \n",
       "4            15        True                True              14       8192   \n",
       "..          ...         ...                 ...             ...        ...   \n",
       "59            5        True                True              16       2048   \n",
       "60            5        True                True              12       1024   \n",
       "61            5        True                True              10       1024   \n",
       "62            5        True                True              14       1024   \n",
       "63            5        True                True              16       1024   \n",
       "\n",
       "    window_size  window_step  preprocessing_time_mean  preprocessing_time_std  \\\n",
       "0           0.1         0.02                68.779536                0.461718   \n",
       "1           0.1         0.02                68.809825                2.102739   \n",
       "2           0.1         0.02                21.257074                0.148606   \n",
       "3           0.1         0.02                67.674637                1.687225   \n",
       "4           0.1         0.02                69.580245                3.124243   \n",
       "..          ...          ...                      ...                     ...   \n",
       "59          0.1         0.02                21.195311                0.260166   \n",
       "60          0.1         0.02                20.212808                2.871695   \n",
       "61          0.1         0.02                15.484381                1.137779   \n",
       "62          0.1         0.02                14.111317                0.126468   \n",
       "63          0.1         0.02                15.689873                1.566034   \n",
       "\n",
       "    training_time_mean  training_time_std  training_prediction_time_mean  \\\n",
       "0             1.947594           0.046322                       7.282843   \n",
       "1             2.021882           0.132910                       7.123245   \n",
       "2             0.390748           0.010244                       1.612594   \n",
       "3             2.156996           0.451407                       7.586651   \n",
       "4             1.803700           0.085118                       6.189355   \n",
       "..                 ...                ...                            ...   \n",
       "59            0.380976           0.035190                       2.672261   \n",
       "60            0.213629           0.031466                       1.580484   \n",
       "61            0.166962           0.023644                       1.181425   \n",
       "62            0.158926           0.001679                       1.118401   \n",
       "63            0.160175           0.010970                       1.173880   \n",
       "\n",
       "    training_prediction_time_std  validation_prediction_time_mean  \\\n",
       "0                       0.064355                         1.763058   \n",
       "1                       0.131645                         1.704458   \n",
       "2                       0.060409                         0.457569   \n",
       "3                       1.009147                         1.688890   \n",
       "4                       0.109496                         1.501977   \n",
       "..                           ...                              ...   \n",
       "59                      0.162582                         0.684966   \n",
       "60                      0.401744                         0.400684   \n",
       "61                      0.172768                         0.308179   \n",
       "62                      0.016352                         0.290834   \n",
       "63                      0.149129                         0.318736   \n",
       "\n",
       "    validation_prediction_time_std  training_accuracy_mean  \\\n",
       "0                         0.011880                1.000000   \n",
       "1                         0.026431                1.000000   \n",
       "2                         0.041106                1.000000   \n",
       "3                         0.027610                1.000000   \n",
       "4                         0.040649                1.000000   \n",
       "..                             ...                     ...   \n",
       "59                        0.069627                0.965556   \n",
       "60                        0.126144                0.944444   \n",
       "61                        0.040861                0.926204   \n",
       "62                        0.010492                0.935185   \n",
       "63                        0.052284                0.929167   \n",
       "\n",
       "    training_accuracy_std  validation_accuracy_mean  validation_accuracy_std  \\\n",
       "0                0.000000                  0.914074                 0.025272   \n",
       "1                0.000000                  0.912963                 0.009443   \n",
       "2                0.000000                  0.912222                 0.022999   \n",
       "3                0.000000                  0.911481                 0.009544   \n",
       "4                0.000000                  0.911481                 0.016580   \n",
       "..                    ...                       ...                      ...   \n",
       "59               0.003135                  0.786296                 0.024612   \n",
       "60               0.005834                  0.779259                 0.018310   \n",
       "61               0.007463                  0.769259                 0.023733   \n",
       "62               0.009676                  0.768519                 0.015135   \n",
       "63               0.008881                  0.695556                 0.008889   \n",
       "\n",
       "    rank  \n",
       "0    1.0  \n",
       "1    2.0  \n",
       "2    3.0  \n",
       "3    4.0  \n",
       "4    5.5  \n",
       "..   ...  \n",
       "59  60.0  \n",
       "60  61.0  \n",
       "61  62.0  \n",
       "62  63.0  \n",
       "63  64.0  \n",
       "\n",
       "[64 rows x 20 columns]"
      ]
     },
     "execution_count": 6,
     "metadata": {},
     "output_type": "execute_result"
    }
   ],
   "source": [
    "ws_gs_results = ws_gs_results.sort_values('rank').reset_index(drop=True)\n",
    "\n",
    "with open('results/wisard2_gs_results.pickle', 'wb') as file:\n",
    "    pickle.dump(ws_gs_results, file)\n",
    "\n",
    "ws_gs_results.to_csv('results/wisard2_gs_results.csv', sep=';')\n",
    "\n",
    "ws_gs_results"
   ]
  },
  {
   "cell_type": "code",
   "execution_count": 5,
   "metadata": {},
   "outputs": [
    {
     "data": {
      "text/plain": [
       "{'addressSize': 10,\n",
       " 'append_sum': True,\n",
       " 'bleachingActivated': True,\n",
       " 'n_filters_mfcc': 16,\n",
       " 'n_kernels': 8192,\n",
       " 'window_size': 0.1,\n",
       " 'window_step': 0.02}"
      ]
     },
     "execution_count": 5,
     "metadata": {},
     "output_type": "execute_result"
    }
   ],
   "source": [
    "with open('results/wisard2_gs_best_params.pickle', 'wb') as file:\n",
    "    pickle.dump(ws_best_params, file)\n",
    "\n",
    "ws_best_params"
   ]
  },
  {
   "cell_type": "code",
   "execution_count": 4,
   "metadata": {},
   "outputs": [],
   "source": [
    "with open('results/wisard2_gs_best_params.pickle', 'rb') as file:\n",
    "    ws_best_params = pickle.load(file)"
   ]
  },
  {
   "cell_type": "code",
   "execution_count": 39,
   "metadata": {},
   "outputs": [
    {
     "name": "stdout",
     "output_type": "stream",
     "text": [
      "Training Accuracy: 1.0000\n",
      "Test Accuracy: 0.9467\n"
     ]
    }
   ],
   "source": [
    "# Preprocessing\n",
    "y_train_str = [str(l) for l in y_train]\n",
    "y_test_str = [str(l) for l in y_test]\n",
    "\n",
    "# 1) Extract MFCCs from audio recordings and use Appendsum (or not)\n",
    "X_train_preprocessed = extract_features(X_train, sample_rates, ws_best_params['n_filters_mfcc'], ws_best_params['window_size'], \n",
    "                                        ws_best_params['window_step'], ws_best_params['append_sum'], verbose=False)\n",
    "X_test_preprocessed = extract_features(X_test, sample_rates, ws_best_params['n_filters_mfcc'], ws_best_params['window_size'], \n",
    "                                       ws_best_params['window_step'], ws_best_params['append_sum'], verbose=False)\n",
    "\n",
    "# 2) Database Z-score\n",
    "z_scorer = DatabaseZScorer()\n",
    "X_train_preprocessed = z_scorer.fit_transform(X_train_preprocessed)\n",
    "X_test_preprocessed = z_scorer.transform(X_test_preprocessed)\n",
    "\n",
    "# 3) Hyperbolic tangent (scaling features to (-1, +1) interval\n",
    "X_train_preprocessed = tanh(X_train_preprocessed)\n",
    "X_test_preprocessed = tanh(X_test_preprocessed)\n",
    "\n",
    "# 4) Applying kernel canvas to each recordings' feature set\n",
    "dimension = X_train_preprocessed[0].shape[1]\n",
    "kernel_canvas = wp.KernelCanvas(dimension, ws_best_params['n_kernels'], \n",
    "                                bitsBykernel = 16, activationDegree = 0.075)\n",
    "\n",
    "X_train_preprocessed = [kernel_canvas.transform(rec_features) for rec_features in X_train_preprocessed]\n",
    "X_test_preprocessed = [kernel_canvas.transform(rec_features) for rec_features in X_test_preprocessed]\n",
    "\n",
    "# training\n",
    "model = wp.Wisard(ws_best_params['addressSize'], \n",
    "                  bleachingActivated=ws_best_params['bleachingActivated'],\n",
    "                  ignoreZero=True)\n",
    "\n",
    "model.train(X_train_preprocessed, y_train_str)\n",
    "\n",
    "pred_train = model.classify(X_train_preprocessed)\n",
    "pred_test = model.classify(X_test_preprocessed)\n",
    "\n",
    "training_accuracy = accuracy_score(y_train_str, pred_train)\n",
    "test_accuracy = accuracy_score(y_test_str, pred_test)\n",
    "\n",
    "print(f'Training Accuracy: {training_accuracy:.4f}')\n",
    "print(f'Test Accuracy: {test_accuracy:.4f}')"
   ]
  },
  {
   "cell_type": "markdown",
   "metadata": {},
   "source": [
    "## Results visualization"
   ]
  },
  {
   "cell_type": "code",
   "execution_count": 9,
   "metadata": {},
   "outputs": [
    {
     "data": {
      "text/html": [
       "<div>\n",
       "<style scoped>\n",
       "    .dataframe tbody tr th:only-of-type {\n",
       "        vertical-align: middle;\n",
       "    }\n",
       "\n",
       "    .dataframe tbody tr th {\n",
       "        vertical-align: top;\n",
       "    }\n",
       "\n",
       "    .dataframe thead th {\n",
       "        text-align: right;\n",
       "    }\n",
       "</style>\n",
       "<table border=\"1\" class=\"dataframe\">\n",
       "  <thead>\n",
       "    <tr style=\"text-align: right;\">\n",
       "      <th></th>\n",
       "      <th>Unnamed: 0</th>\n",
       "      <th>addressSize</th>\n",
       "      <th>append_sum</th>\n",
       "      <th>bleachingActivated</th>\n",
       "      <th>n_filters_mfcc</th>\n",
       "      <th>n_kernels</th>\n",
       "      <th>window_size</th>\n",
       "      <th>window_step</th>\n",
       "      <th>preprocessing_time_mean</th>\n",
       "      <th>preprocessing_time_std</th>\n",
       "      <th>...</th>\n",
       "      <th>training_time_std</th>\n",
       "      <th>training_prediction_time_mean</th>\n",
       "      <th>training_prediction_time_std</th>\n",
       "      <th>validation_prediction_time_mean</th>\n",
       "      <th>validation_prediction_time_std</th>\n",
       "      <th>training_accuracy_mean</th>\n",
       "      <th>training_accuracy_std</th>\n",
       "      <th>validation_accuracy_mean</th>\n",
       "      <th>validation_accuracy_std</th>\n",
       "      <th>rank</th>\n",
       "    </tr>\n",
       "  </thead>\n",
       "  <tbody>\n",
       "    <tr>\n",
       "      <th>0</th>\n",
       "      <td>0</td>\n",
       "      <td>10</td>\n",
       "      <td>True</td>\n",
       "      <td>True</td>\n",
       "      <td>16</td>\n",
       "      <td>8192</td>\n",
       "      <td>0.1</td>\n",
       "      <td>0.02</td>\n",
       "      <td>68.779536</td>\n",
       "      <td>0.461718</td>\n",
       "      <td>...</td>\n",
       "      <td>0.046322</td>\n",
       "      <td>7.282843</td>\n",
       "      <td>0.064355</td>\n",
       "      <td>1.763058</td>\n",
       "      <td>0.011880</td>\n",
       "      <td>1.000000</td>\n",
       "      <td>0.000000</td>\n",
       "      <td>0.914074</td>\n",
       "      <td>0.025272</td>\n",
       "      <td>1.0</td>\n",
       "    </tr>\n",
       "    <tr>\n",
       "      <th>1</th>\n",
       "      <td>1</td>\n",
       "      <td>10</td>\n",
       "      <td>True</td>\n",
       "      <td>True</td>\n",
       "      <td>14</td>\n",
       "      <td>8192</td>\n",
       "      <td>0.1</td>\n",
       "      <td>0.02</td>\n",
       "      <td>68.809825</td>\n",
       "      <td>2.102739</td>\n",
       "      <td>...</td>\n",
       "      <td>0.132910</td>\n",
       "      <td>7.123245</td>\n",
       "      <td>0.131645</td>\n",
       "      <td>1.704458</td>\n",
       "      <td>0.026431</td>\n",
       "      <td>1.000000</td>\n",
       "      <td>0.000000</td>\n",
       "      <td>0.912963</td>\n",
       "      <td>0.009443</td>\n",
       "      <td>2.0</td>\n",
       "    </tr>\n",
       "    <tr>\n",
       "      <th>2</th>\n",
       "      <td>2</td>\n",
       "      <td>10</td>\n",
       "      <td>True</td>\n",
       "      <td>True</td>\n",
       "      <td>16</td>\n",
       "      <td>2048</td>\n",
       "      <td>0.1</td>\n",
       "      <td>0.02</td>\n",
       "      <td>21.257074</td>\n",
       "      <td>0.148606</td>\n",
       "      <td>...</td>\n",
       "      <td>0.010244</td>\n",
       "      <td>1.612594</td>\n",
       "      <td>0.060409</td>\n",
       "      <td>0.457569</td>\n",
       "      <td>0.041106</td>\n",
       "      <td>1.000000</td>\n",
       "      <td>0.000000</td>\n",
       "      <td>0.912222</td>\n",
       "      <td>0.022999</td>\n",
       "      <td>3.0</td>\n",
       "    </tr>\n",
       "    <tr>\n",
       "      <th>3</th>\n",
       "      <td>3</td>\n",
       "      <td>10</td>\n",
       "      <td>True</td>\n",
       "      <td>True</td>\n",
       "      <td>12</td>\n",
       "      <td>8192</td>\n",
       "      <td>0.1</td>\n",
       "      <td>0.02</td>\n",
       "      <td>67.674637</td>\n",
       "      <td>1.687225</td>\n",
       "      <td>...</td>\n",
       "      <td>0.451407</td>\n",
       "      <td>7.586651</td>\n",
       "      <td>1.009147</td>\n",
       "      <td>1.688890</td>\n",
       "      <td>0.027610</td>\n",
       "      <td>1.000000</td>\n",
       "      <td>0.000000</td>\n",
       "      <td>0.911481</td>\n",
       "      <td>0.009544</td>\n",
       "      <td>4.0</td>\n",
       "    </tr>\n",
       "    <tr>\n",
       "      <th>4</th>\n",
       "      <td>4</td>\n",
       "      <td>15</td>\n",
       "      <td>True</td>\n",
       "      <td>True</td>\n",
       "      <td>14</td>\n",
       "      <td>8192</td>\n",
       "      <td>0.1</td>\n",
       "      <td>0.02</td>\n",
       "      <td>69.580245</td>\n",
       "      <td>3.124243</td>\n",
       "      <td>...</td>\n",
       "      <td>0.085118</td>\n",
       "      <td>6.189355</td>\n",
       "      <td>0.109496</td>\n",
       "      <td>1.501977</td>\n",
       "      <td>0.040649</td>\n",
       "      <td>1.000000</td>\n",
       "      <td>0.000000</td>\n",
       "      <td>0.911481</td>\n",
       "      <td>0.016580</td>\n",
       "      <td>5.5</td>\n",
       "    </tr>\n",
       "    <tr>\n",
       "      <th>...</th>\n",
       "      <td>...</td>\n",
       "      <td>...</td>\n",
       "      <td>...</td>\n",
       "      <td>...</td>\n",
       "      <td>...</td>\n",
       "      <td>...</td>\n",
       "      <td>...</td>\n",
       "      <td>...</td>\n",
       "      <td>...</td>\n",
       "      <td>...</td>\n",
       "      <td>...</td>\n",
       "      <td>...</td>\n",
       "      <td>...</td>\n",
       "      <td>...</td>\n",
       "      <td>...</td>\n",
       "      <td>...</td>\n",
       "      <td>...</td>\n",
       "      <td>...</td>\n",
       "      <td>...</td>\n",
       "      <td>...</td>\n",
       "      <td>...</td>\n",
       "    </tr>\n",
       "    <tr>\n",
       "      <th>59</th>\n",
       "      <td>59</td>\n",
       "      <td>5</td>\n",
       "      <td>True</td>\n",
       "      <td>True</td>\n",
       "      <td>16</td>\n",
       "      <td>2048</td>\n",
       "      <td>0.1</td>\n",
       "      <td>0.02</td>\n",
       "      <td>21.195311</td>\n",
       "      <td>0.260166</td>\n",
       "      <td>...</td>\n",
       "      <td>0.035190</td>\n",
       "      <td>2.672261</td>\n",
       "      <td>0.162582</td>\n",
       "      <td>0.684966</td>\n",
       "      <td>0.069627</td>\n",
       "      <td>0.965556</td>\n",
       "      <td>0.003135</td>\n",
       "      <td>0.786296</td>\n",
       "      <td>0.024612</td>\n",
       "      <td>60.0</td>\n",
       "    </tr>\n",
       "    <tr>\n",
       "      <th>60</th>\n",
       "      <td>60</td>\n",
       "      <td>5</td>\n",
       "      <td>True</td>\n",
       "      <td>True</td>\n",
       "      <td>12</td>\n",
       "      <td>1024</td>\n",
       "      <td>0.1</td>\n",
       "      <td>0.02</td>\n",
       "      <td>20.212808</td>\n",
       "      <td>2.871695</td>\n",
       "      <td>...</td>\n",
       "      <td>0.031466</td>\n",
       "      <td>1.580484</td>\n",
       "      <td>0.401744</td>\n",
       "      <td>0.400684</td>\n",
       "      <td>0.126144</td>\n",
       "      <td>0.944444</td>\n",
       "      <td>0.005834</td>\n",
       "      <td>0.779259</td>\n",
       "      <td>0.018310</td>\n",
       "      <td>61.0</td>\n",
       "    </tr>\n",
       "    <tr>\n",
       "      <th>61</th>\n",
       "      <td>61</td>\n",
       "      <td>5</td>\n",
       "      <td>True</td>\n",
       "      <td>True</td>\n",
       "      <td>10</td>\n",
       "      <td>1024</td>\n",
       "      <td>0.1</td>\n",
       "      <td>0.02</td>\n",
       "      <td>15.484381</td>\n",
       "      <td>1.137779</td>\n",
       "      <td>...</td>\n",
       "      <td>0.023644</td>\n",
       "      <td>1.181425</td>\n",
       "      <td>0.172768</td>\n",
       "      <td>0.308179</td>\n",
       "      <td>0.040861</td>\n",
       "      <td>0.926204</td>\n",
       "      <td>0.007463</td>\n",
       "      <td>0.769259</td>\n",
       "      <td>0.023733</td>\n",
       "      <td>62.0</td>\n",
       "    </tr>\n",
       "    <tr>\n",
       "      <th>62</th>\n",
       "      <td>62</td>\n",
       "      <td>5</td>\n",
       "      <td>True</td>\n",
       "      <td>True</td>\n",
       "      <td>14</td>\n",
       "      <td>1024</td>\n",
       "      <td>0.1</td>\n",
       "      <td>0.02</td>\n",
       "      <td>14.111317</td>\n",
       "      <td>0.126468</td>\n",
       "      <td>...</td>\n",
       "      <td>0.001679</td>\n",
       "      <td>1.118401</td>\n",
       "      <td>0.016352</td>\n",
       "      <td>0.290834</td>\n",
       "      <td>0.010492</td>\n",
       "      <td>0.935185</td>\n",
       "      <td>0.009676</td>\n",
       "      <td>0.768519</td>\n",
       "      <td>0.015135</td>\n",
       "      <td>63.0</td>\n",
       "    </tr>\n",
       "    <tr>\n",
       "      <th>63</th>\n",
       "      <td>63</td>\n",
       "      <td>5</td>\n",
       "      <td>True</td>\n",
       "      <td>True</td>\n",
       "      <td>16</td>\n",
       "      <td>1024</td>\n",
       "      <td>0.1</td>\n",
       "      <td>0.02</td>\n",
       "      <td>15.689873</td>\n",
       "      <td>1.566034</td>\n",
       "      <td>...</td>\n",
       "      <td>0.010970</td>\n",
       "      <td>1.173880</td>\n",
       "      <td>0.149129</td>\n",
       "      <td>0.318736</td>\n",
       "      <td>0.052284</td>\n",
       "      <td>0.929167</td>\n",
       "      <td>0.008881</td>\n",
       "      <td>0.695556</td>\n",
       "      <td>0.008889</td>\n",
       "      <td>64.0</td>\n",
       "    </tr>\n",
       "  </tbody>\n",
       "</table>\n",
       "<p>64 rows × 21 columns</p>\n",
       "</div>"
      ],
      "text/plain": [
       "    Unnamed: 0  addressSize  append_sum  bleachingActivated  n_filters_mfcc  \\\n",
       "0            0           10        True                True              16   \n",
       "1            1           10        True                True              14   \n",
       "2            2           10        True                True              16   \n",
       "3            3           10        True                True              12   \n",
       "4            4           15        True                True              14   \n",
       "..         ...          ...         ...                 ...             ...   \n",
       "59          59            5        True                True              16   \n",
       "60          60            5        True                True              12   \n",
       "61          61            5        True                True              10   \n",
       "62          62            5        True                True              14   \n",
       "63          63            5        True                True              16   \n",
       "\n",
       "    n_kernels  window_size  window_step  preprocessing_time_mean  \\\n",
       "0        8192          0.1         0.02                68.779536   \n",
       "1        8192          0.1         0.02                68.809825   \n",
       "2        2048          0.1         0.02                21.257074   \n",
       "3        8192          0.1         0.02                67.674637   \n",
       "4        8192          0.1         0.02                69.580245   \n",
       "..        ...          ...          ...                      ...   \n",
       "59       2048          0.1         0.02                21.195311   \n",
       "60       1024          0.1         0.02                20.212808   \n",
       "61       1024          0.1         0.02                15.484381   \n",
       "62       1024          0.1         0.02                14.111317   \n",
       "63       1024          0.1         0.02                15.689873   \n",
       "\n",
       "    preprocessing_time_std  ...  training_time_std  \\\n",
       "0                 0.461718  ...           0.046322   \n",
       "1                 2.102739  ...           0.132910   \n",
       "2                 0.148606  ...           0.010244   \n",
       "3                 1.687225  ...           0.451407   \n",
       "4                 3.124243  ...           0.085118   \n",
       "..                     ...  ...                ...   \n",
       "59                0.260166  ...           0.035190   \n",
       "60                2.871695  ...           0.031466   \n",
       "61                1.137779  ...           0.023644   \n",
       "62                0.126468  ...           0.001679   \n",
       "63                1.566034  ...           0.010970   \n",
       "\n",
       "    training_prediction_time_mean  training_prediction_time_std  \\\n",
       "0                        7.282843                      0.064355   \n",
       "1                        7.123245                      0.131645   \n",
       "2                        1.612594                      0.060409   \n",
       "3                        7.586651                      1.009147   \n",
       "4                        6.189355                      0.109496   \n",
       "..                            ...                           ...   \n",
       "59                       2.672261                      0.162582   \n",
       "60                       1.580484                      0.401744   \n",
       "61                       1.181425                      0.172768   \n",
       "62                       1.118401                      0.016352   \n",
       "63                       1.173880                      0.149129   \n",
       "\n",
       "    validation_prediction_time_mean  validation_prediction_time_std  \\\n",
       "0                          1.763058                        0.011880   \n",
       "1                          1.704458                        0.026431   \n",
       "2                          0.457569                        0.041106   \n",
       "3                          1.688890                        0.027610   \n",
       "4                          1.501977                        0.040649   \n",
       "..                              ...                             ...   \n",
       "59                         0.684966                        0.069627   \n",
       "60                         0.400684                        0.126144   \n",
       "61                         0.308179                        0.040861   \n",
       "62                         0.290834                        0.010492   \n",
       "63                         0.318736                        0.052284   \n",
       "\n",
       "    training_accuracy_mean  training_accuracy_std  validation_accuracy_mean  \\\n",
       "0                 1.000000               0.000000                  0.914074   \n",
       "1                 1.000000               0.000000                  0.912963   \n",
       "2                 1.000000               0.000000                  0.912222   \n",
       "3                 1.000000               0.000000                  0.911481   \n",
       "4                 1.000000               0.000000                  0.911481   \n",
       "..                     ...                    ...                       ...   \n",
       "59                0.965556               0.003135                  0.786296   \n",
       "60                0.944444               0.005834                  0.779259   \n",
       "61                0.926204               0.007463                  0.769259   \n",
       "62                0.935185               0.009676                  0.768519   \n",
       "63                0.929167               0.008881                  0.695556   \n",
       "\n",
       "    validation_accuracy_std  rank  \n",
       "0                  0.025272   1.0  \n",
       "1                  0.009443   2.0  \n",
       "2                  0.022999   3.0  \n",
       "3                  0.009544   4.0  \n",
       "4                  0.016580   5.5  \n",
       "..                      ...   ...  \n",
       "59                 0.024612  60.0  \n",
       "60                 0.018310  61.0  \n",
       "61                 0.023733  62.0  \n",
       "62                 0.015135  63.0  \n",
       "63                 0.008889  64.0  \n",
       "\n",
       "[64 rows x 21 columns]"
      ]
     },
     "execution_count": 9,
     "metadata": {},
     "output_type": "execute_result"
    }
   ],
   "source": [
    "ws_gs_results = pd.read_csv('results/wisard2_gs_results.csv', sep=';')\n",
    "\n",
    "ws_gs_results"
   ]
  },
  {
   "cell_type": "code",
   "execution_count": 11,
   "metadata": {},
   "outputs": [],
   "source": [
    "import seaborn as sns\n",
    "import matplotlib.pyplot as plt"
   ]
  },
  {
   "cell_type": "markdown",
   "metadata": {},
   "source": [
    "### Hyperparameters influence on accuracy"
   ]
  },
  {
   "cell_type": "code",
   "execution_count": 60,
   "metadata": {},
   "outputs": [
    {
     "data": {
      "text/plain": [
       "(0.6, 0.95)"
      ]
     },
     "execution_count": 60,
     "metadata": {},
     "output_type": "execute_result"
    },
    {
     "data": {
      "image/png": "[encoded data removed]",
      "text/plain": [
       "<Figure size 504x360 with 1 Axes>"
      ]
     },
     "metadata": {
      "needs_background": "light"
     },
     "output_type": "display_data"
    }
   ],
   "source": [
    "fig, ax = plt.subplots(figsize=(7,5))\n",
    "ax = sns.boxplot(x=\"n_kernels\", y=\"validation_accuracy_mean\", data=ws_gs_results, ax=ax)\n",
    "ax.set_ylabel('Validation Accuracy')\n",
    "ax.set_xlabel(\"kernel canvas' number of kernels\")\n",
    "ax.set_title('5-folds stratified CV results')\n",
    "ax.set_ylim(0.6, 0.95)"
   ]
  },
  {
   "cell_type": "code",
   "execution_count": 61,
   "metadata": {},
   "outputs": [
    {
     "data": {
      "text/plain": [
       "(0.6, 0.95)"
      ]
     },
     "execution_count": 61,
     "metadata": {},
     "output_type": "execute_result"
    },
    {
     "data": {
      "image/png": "[encoded data removed]",
      "text/plain": [
       "<Figure size 504x360 with 1 Axes>"
      ]
     },
     "metadata": {
      "needs_background": "light"
     },
     "output_type": "display_data"
    }
   ],
   "source": [
    "fig, ax = plt.subplots(figsize=(7,5))\n",
    "ax = sns.boxplot(x=\"n_filters_mfcc\", y=\"validation_accuracy_mean\", data=ws_gs_results, ax=ax)\n",
    "ax.set_ylabel('Validation Accuracy')\n",
    "ax.set_xlabel(\"Number of filters (MFCCs)\")\n",
    "ax.set_title('5-folds stratified CV results')\n",
    "ax.set_ylim(0.6, 0.95)"
   ]
  },
  {
   "cell_type": "code",
   "execution_count": 62,
   "metadata": {},
   "outputs": [
    {
     "data": {
      "text/plain": [
       "(0.6, 0.95)"
      ]
     },
     "execution_count": 62,
     "metadata": {},
     "output_type": "execute_result"
    },
    {
     "data": {
      "image/png": "[encoded data removed]",
      "text/plain": [
       "<Figure size 504x360 with 1 Axes>"
      ]
     },
     "metadata": {
      "needs_background": "light"
     },
     "output_type": "display_data"
    }
   ],
   "source": [
    "fig, ax = plt.subplots(figsize=(7,5))\n",
    "ax = sns.boxplot(x=\"addressSize\", y=\"validation_accuracy_mean\", data=ws_gs_results, ax=ax)\n",
    "ax.set_ylabel('Validation Accuracy')\n",
    "ax.set_xlabel(\"Address size (WiSARD)\")\n",
    "ax.set_title('5-folds stratified CV results')\n",
    "ax.set_ylim(0.6, 0.95)"
   ]
  },
  {
   "cell_type": "markdown",
   "metadata": {},
   "source": [
    "### Hyperparameters influence on time"
   ]
  },
  {
   "cell_type": "code",
   "execution_count": 53,
   "metadata": {},
   "outputs": [
    {
     "data": {
      "text/plain": [
       "Text(0.5, 1.0, 'Time comparison')"
      ]
     },
     "execution_count": 53,
     "metadata": {},
     "output_type": "execute_result"
    },
    {
     "data": {
      "image/png": "[encoded data removed]",
      "text/plain": [
       "<Figure size 432x432 with 1 Axes>"
      ]
     },
     "metadata": {
      "needs_background": "light"
     },
     "output_type": "display_data"
    }
   ],
   "source": [
    "timing_comparison = ws_gs_results[['training_time_mean', 'training_prediction_time_mean', 'preprocessing_time_mean']].stack()\n",
    "\n",
    "sns.set_style()\n",
    "fig, ax = plt.subplots(figsize=(6,6))\n",
    "#ax = sns.barplot(x=timing_comparison.index, y=timing_comparison.values, label=\"Training time\", ax=ax)\n",
    "ax.bar(x='Training time', height=ws_gs_results['training_time_mean'])\n",
    "ax.bar(x='Prediction time', height=ws_gs_results['training_prediction_time_mean'])\n",
    "ax.bar(x='Preprocessing time', height=ws_gs_results['preprocessing_time_mean'])\n",
    "ax.set_ylabel('Time (seconds)', fontsize=12)\n",
    "ax.set_yticks(np.arange(0,80,5))\n",
    "ax.set_title('Time comparison')"
   ]
  },
  {
   "cell_type": "code",
   "execution_count": 52,
   "metadata": {},
   "outputs": [
    {
     "data": {
      "text/plain": [
       "Text(0.5, 1.0, 'Training time comparison')"
      ]
     },
     "execution_count": 52,
     "metadata": {},
     "output_type": "execute_result"
    },
    {
     "data": {
      "image/png": "[encoded data removed]",
      "text/plain": [
       "<Figure size 504x360 with 1 Axes>"
      ]
     },
     "metadata": {
      "needs_background": "light"
     },
     "output_type": "display_data"
    }
   ],
   "source": [
    "fig, ax = plt.subplots(figsize=(7,5))\n",
    "ax = sns.barplot(x=\"addressSize\", y=\"training_time_mean\", data=ws_gs_results, ax=ax)\n",
    "ax.set_ylabel('Training time (s)')\n",
    "ax.set_xlabel(\"Address size (WiSARD)\")\n",
    "ax.set_title('Training time comparison')"
   ]
  },
  {
   "cell_type": "code",
   "execution_count": 50,
   "metadata": {},
   "outputs": [
    {
     "data": {
      "text/plain": [
       "Text(0.5, 1.0, 'Training time comparison')"
      ]
     },
     "execution_count": 50,
     "metadata": {},
     "output_type": "execute_result"
    },
    {
     "data": {
      "image/png": "[encoded data removed]",
      "text/plain": [
       "<Figure size 504x360 with 1 Axes>"
      ]
     },
     "metadata": {
      "needs_background": "light"
     },
     "output_type": "display_data"
    }
   ],
   "source": [
    "fig, ax = plt.subplots(figsize=(7,5))\n",
    "ax = sns.barplot(x=\"n_kernels\", y=\"training_time_mean\", data=ws_gs_results, ax=ax)\n",
    "ax.set_ylabel('Training time (s)')\n",
    "ax.set_xlabel(\"kernel canvas' number of kernels\")\n",
    "ax.set_title('Training time comparison')"
   ]
  },
  {
   "cell_type": "code",
   "execution_count": 51,
   "metadata": {},
   "outputs": [
    {
     "data": {
      "text/plain": [
       "Text(0.5, 1.0, 'Preprocessing time comparison')"
      ]
     },
     "execution_count": 51,
     "metadata": {},
     "output_type": "execute_result"
    },
    {
     "data": {
      "image/png": "[encoded data removed]",
      "text/plain": [
       "<Figure size 504x360 with 1 Axes>"
      ]
     },
     "metadata": {
      "needs_background": "light"
     },
     "output_type": "display_data"
    }
   ],
   "source": [
    "fig, ax = plt.subplots(figsize=(7,5))\n",
    "ax = sns.barplot(x=\"n_kernels\", y=\"preprocessing_time_mean\", data=ws_gs_results, ax=ax)\n",
    "ax.set_ylabel('Preprocessing time (s)')\n",
    "ax.set_xlabel(\"kernel canvas' number of kernels\")\n",
    "ax.set_title('Preprocessing time comparison')"
   ]
  },
  {
   "cell_type": "code",
   "execution_count": 55,
   "metadata": {},
   "outputs": [
    {
     "data": {
      "text/plain": [
       "Text(0.5, 1.0, 'Preprocessing time comparison')"
      ]
     },
     "execution_count": 55,
     "metadata": {},
     "output_type": "execute_result"
    },
    {
     "data": {
      "image/png": "[encoded data removed]",
      "text/plain": [
       "<Figure size 504x360 with 1 Axes>"
      ]
     },
     "metadata": {
      "needs_background": "light"
     },
     "output_type": "display_data"
    }
   ],
   "source": [
    "fig, ax = plt.subplots(figsize=(7,5))\n",
    "ax = sns.barplot(x=\"n_filters_mfcc\", y=\"preprocessing_time_mean\", data=ws_gs_results, ax=ax)\n",
    "ax.set_ylabel('Preprocessing time (s)')\n",
    "ax.set_xlabel(\"Number of filters (MFCCs)\")\n",
    "ax.set_title('Preprocessing time comparison')"
   ]
  },
  {
   "cell_type": "code",
   "execution_count": null,
   "metadata": {},
   "outputs": [],
   "source": []
  }
 ],
 "metadata": {
  "kernelspec": {
   "display_name": "Python 3",
   "language": "python",
   "name": "python3"
  },
  "language_info": {
   "codemirror_mode": {
    "name": "ipython",
    "version": 3
   },
   "file_extension": ".py",
   "mimetype": "text/x-python",
   "name": "python",
   "nbconvert_exporter": "python",
   "pygments_lexer": "ipython3",
   "version": "3.8.5"
  }
 },
 "nbformat": 4,
 "nbformat_minor": 4
}
